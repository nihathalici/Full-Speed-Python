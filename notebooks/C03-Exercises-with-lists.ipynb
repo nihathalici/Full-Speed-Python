{
  "nbformat": 4,
  "nbformat_minor": 0,
  "metadata": {
    "colab": {
      "name": "Untitled1.ipynb",
      "provenance": [],
      "collapsed_sections": [],
      "toc_visible": true
    },
    "kernelspec": {
      "name": "python3",
      "display_name": "Python 3"
    }
  },
  "cells": [
    {
      "cell_type": "markdown",
      "metadata": {
        "id": "h6mgspFSAJxv"
      },
      "source": [
        "# **Exercises with lists**"
      ]
    },
    {
      "cell_type": "markdown",
      "metadata": {
        "id": "uu92TkiROVyi"
      },
      "source": [
        "Create a list named \"l\" with the following values ([1, 4, 9, 10, 23]).\n",
        "\n",
        "Using the Python documentation about lists\n",
        "(https://docs.python.org/3.5/tutorial/introduction.html#lists)\n",
        "solve the following exercises:\n",
        "\n",
        "**1. Using list slicing get the sublists [4, 9] and [10, 23].**"
      ]
    },
    {
      "cell_type": "code",
      "metadata": {
        "colab": {
          "base_uri": "https://localhost:8080/"
        },
        "id": "diVDmEBjOu1R",
        "outputId": "4673dbee-5c4e-40d0-9137-9f6a875d85d2"
      },
      "source": [
        "l = [1, 4, 9, 10, 23]\n",
        "\n",
        "sub_l_1 = l[1:3]\n",
        "print(sub_l_1)\n",
        "\n",
        "sub_l_2 = l[-2:]\n",
        "print(sub_l_2)\n",
        "\n",
        "# or\n",
        "sub_l_2 = l[3:5]\n",
        "print(sub_l_2)\n",
        "\n",
        "# or\n",
        "sub_l_2 = l[3:]\n",
        "print(sub_l_2)"
      ],
      "execution_count": 11,
      "outputs": [
        {
          "output_type": "stream",
          "text": [
            "[4, 9]\n",
            "[10, 23]\n",
            "[10, 23]\n",
            "[10, 23]\n"
          ],
          "name": "stdout"
        }
      ]
    },
    {
      "cell_type": "markdown",
      "metadata": {
        "id": "2CBLd_qKO2rW"
      },
      "source": [
        "**2. Append the value 90 to the end of the list \"l\".**\n",
        "\n",
        "Check the difference between list concatenation and the \"append\" method."
      ]
    },
    {
      "cell_type": "code",
      "metadata": {
        "colab": {
          "base_uri": "https://localhost:8080/"
        },
        "id": "P_kn-Om9PFiw",
        "outputId": "b4161618-e581-40bf-8140-d86824e8bb19"
      },
      "source": [
        "# 1. method: append\n",
        "\n",
        "l = [1, 4, 9, 10, 23]\n",
        "\n",
        "l.append(90)\n",
        "\n",
        "print(l)\n",
        "\n",
        "# 2. method: concatenate a list with an integer\n",
        "\n",
        "l = [1, 4, 9, 10, 23]\n",
        "\n",
        "# In order to perform concatenation you must have two lists\n",
        "\n",
        "concat_l = [90]\n",
        "\n",
        "new_l = l + concat_l\n",
        "\n",
        "print(new_l)"
      ],
      "execution_count": 12,
      "outputs": [
        {
          "output_type": "stream",
          "text": [
            "[1, 4, 9, 10, 23, 90]\n",
            "[1, 4, 9, 10, 23, 90]\n"
          ],
          "name": "stdout"
        }
      ]
    },
    {
      "cell_type": "markdown",
      "metadata": {
        "id": "HcREhxHmPH2H"
      },
      "source": [
        "**3. Calculate the average value of all values on the list.**\n",
        "\n",
        "You can use the \"sum\" and \"len\" functions."
      ]
    },
    {
      "cell_type": "code",
      "metadata": {
        "colab": {
          "base_uri": "https://localhost:8080/"
        },
        "id": "ec_QDY6XPecv",
        "outputId": "2cb81a01-11aa-4918-f4cf-35d7b3efa9b0"
      },
      "source": [
        "l = [1, 4, 9, 10, 23]\n",
        "\n",
        "sum_l = sum(l)\n",
        "\n",
        "print(\"The sum of the list l is: {}\".format(sum_l))\n",
        "\n",
        "avg_l = sum(l) / len(l)\n",
        "\n",
        "print(\"The average for the list l is: {}\".format(avg_l))"
      ],
      "execution_count": 13,
      "outputs": [
        {
          "output_type": "stream",
          "text": [
            "The sum of the list l is: 47\n",
            "The average for the list l is: 9.4\n"
          ],
          "name": "stdout"
        }
      ]
    },
    {
      "cell_type": "markdown",
      "metadata": {
        "id": "QwFylb9dPj34"
      },
      "source": [
        "**4. Remove the sublist [4, 9].**"
      ]
    },
    {
      "cell_type": "code",
      "metadata": {
        "colab": {
          "base_uri": "https://localhost:8080/"
        },
        "id": "J6kQIzR9Pr5u",
        "outputId": "431c642f-9d43-4d6a-cbf2-4edd0acc84ec"
      },
      "source": [
        "# 1. remove method\n",
        "l = [1, 4, 9, 10, 23]\n",
        "\n",
        "l.remove(4)\n",
        "l.remove(9)\n",
        "\n",
        "print(l)\n",
        "\n",
        "# 2. pop method\n",
        "l = [1, 4, 9, 10, 23]\n",
        "\n",
        "l.pop(1)\n",
        "l.pop(1)\n",
        "\n",
        "print(l)\n",
        "\n",
        "# or 2. pop method / another way\n",
        "l = [1, 4, 9, 10, 23]\n",
        "\n",
        "l.pop(2) and l.pop(1)\n",
        "\n",
        "print(l)\n",
        "\n",
        "# 3. del method\n",
        "l = [1, 4, 9, 10, 23]\n",
        "\n",
        "del l[1]\n",
        "del l[1]\n",
        "\n",
        "print(l)"
      ],
      "execution_count": 14,
      "outputs": [
        {
          "output_type": "stream",
          "text": [
            "[1, 10, 23]\n",
            "[1, 10, 23]\n",
            "[1, 10, 23]\n",
            "[1, 10, 23]\n"
          ],
          "name": "stdout"
        }
      ]
    }
  ]
}