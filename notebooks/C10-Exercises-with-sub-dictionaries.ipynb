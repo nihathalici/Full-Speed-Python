{
  "nbformat": 4,
  "nbformat_minor": 0,
  "metadata": {
    "colab": {
      "name": "Untitled1.ipynb",
      "provenance": [],
      "collapsed_sections": [],
      "toc_visible": true
    },
    "kernelspec": {
      "name": "python3",
      "display_name": "Python 3"
    }
  },
  "cells": [
    {
      "cell_type": "markdown",
      "metadata": {
        "id": "h6mgspFSAJxv"
      },
      "source": [
        "# **Exercises with sub dictionaries**"
      ]
    },
    {
      "cell_type": "markdown",
      "metadata": {
        "id": "A4-G9xvw0jHl"
      },
      "source": [
        "Take the following dictionary:\n",
        "```\n",
        "students = {\n",
        "    \"Peter\": {\"age\": 10, \"address\": \"Lisbon\"},\n",
        "    \"Isabel\": {\"age\": 11, \"address\": \"Sesimbra\"},\n",
        "    \"Anna\": {\"age\": 9, \"address\": \"Lisbon\"},\n",
        "}\n",
        "```\n",
        "1. How many students are in the \"students\" dict? Use the appropriate function."
      ]
    },
    {
      "cell_type": "code",
      "metadata": {
        "colab": {
          "base_uri": "https://localhost:8080/"
        },
        "id": "rzZ4K6En1BmV",
        "outputId": "ee7cb83b-35f3-409d-a46d-e8d8a7c06f8c"
      },
      "source": [
        "students = {\n",
        "    \"Peter\": {\"age\": 10, \"address\": \"Lisbon\"},\n",
        "    \"Isabel\": {\"age\": 11, \"address\": \"Sesimbra\"},\n",
        "    \"Anna\": {\"age\": 9, \"address\": \"Lisbon\"},\n",
        "}\n",
        "\n",
        "print(len(students))"
      ],
      "execution_count": 1,
      "outputs": [
        {
          "output_type": "stream",
          "text": [
            "3\n"
          ],
          "name": "stdout"
        }
      ]
    },
    {
      "cell_type": "markdown",
      "metadata": {
        "id": "5zSgW0wQ1UFw"
      },
      "source": [
        "2. Implement a function that receives the students dict and returns the average age."
      ]
    },
    {
      "cell_type": "code",
      "metadata": {
        "colab": {
          "base_uri": "https://localhost:8080/"
        },
        "id": "FGZBmlJ01ZCH",
        "outputId": "5d8da551-6d6b-4df6-9f19-c79bf6e14f9f"
      },
      "source": [
        "students = {\n",
        "    \"Peter\": {\"age\": 10, \"address\": \"Lisbon\"},\n",
        "    \"Isabel\": {\"age\": 11, \"address\": \"Sesimbra\"},\n",
        "    \"Anna\": {\"age\": 9, \"address\": \"Lisbon\"},\n",
        "}\n",
        "\n",
        "def avg_std(di):\n",
        "  ages_sum = 0\n",
        "  for sub in di.values():\n",
        "    ages_sum += sub[\"age\"]\n",
        "  avg_age = ages_sum / len(di)\n",
        "  return int(avg_age)\n",
        "\n",
        "print(avg_std(students))"
      ],
      "execution_count": 2,
      "outputs": [
        {
          "output_type": "stream",
          "text": [
            "10\n"
          ],
          "name": "stdout"
        }
      ]
    },
    {
      "cell_type": "markdown",
      "metadata": {
        "id": "RH2hV4Xj2Xsp"
      },
      "source": [
        "3. Implement a function that receives the students dict and an address, and returns a list\n",
        "with the name of all students which address matches the address in the argument.\n",
        "For instance, invoking \"**find_students(students, ’Lisbon’)**\" should return **Peter and Anna**."
      ]
    },
    {
      "cell_type": "code",
      "metadata": {
        "colab": {
          "base_uri": "https://localhost:8080/"
        },
        "id": "2UW03WLF2b2m",
        "outputId": "8bc1b95e-48c8-48ac-faf0-400abc672025"
      },
      "source": [
        "students = {\n",
        "    \"Peter\": {\"age\": 10, \"address\": \"Lisbon\"},\n",
        "    \"Isabel\": {\"age\": 11, \"address\": \"Sesimbra\"},\n",
        "    \"Anna\": {\"age\": 9, \"address\": \"Lisbon\"},\n",
        "}\n",
        "\n",
        "def addr_search(di):\n",
        "  adr_li = []\n",
        "  adr_val = str(input(\"Address?\"))\n",
        "\n",
        "  for k, v in di.items():\n",
        "    if v[\"address\"] == adr_val:\n",
        "      adr_li.append(k)\n",
        "  return \", \".join(adr_li)\n",
        "\n",
        "print(addr_search(students))"
      ],
      "execution_count": 3,
      "outputs": [
        {
          "output_type": "stream",
          "text": [
            "Address?Lisbon\n",
            "Peter, Anna\n"
          ],
          "name": "stdout"
        }
      ]
    }
  ]
}