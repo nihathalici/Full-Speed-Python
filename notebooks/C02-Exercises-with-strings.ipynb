{
  "nbformat": 4,
  "nbformat_minor": 0,
  "metadata": {
    "colab": {
      "name": "Untitled1.ipynb",
      "provenance": [],
      "collapsed_sections": [],
      "toc_visible": true
    },
    "kernelspec": {
      "name": "python3",
      "display_name": "Python 3"
    }
  },
  "cells": [
    {
      "cell_type": "markdown",
      "metadata": {
        "id": "h6mgspFSAJxv"
      },
      "source": [
        "# **Exercises with strings**"
      ]
    },
    {
      "cell_type": "markdown",
      "metadata": {
        "id": "D5CJsk-gDMgq"
      },
      "source": [
        "Initialize the string \"abc\" on a variable named \"s\":\n",
        "\n",
        "(a) Use a function to get the length of the string.\n",
        "\n",
        "(b) Write the necessary sequence of operations to transform the string \"abc\" in \"aaabbbccc\".\n",
        "\n",
        "Suggestion: Use string concatenation and string indexes."
      ]
    },
    {
      "cell_type": "code",
      "metadata": {
        "colab": {
          "base_uri": "https://localhost:8080/"
        },
        "id": "IXiEx8MHDPwi",
        "outputId": "bb90a209-78c7-48c6-f2f3-23e2b2fae070"
      },
      "source": [
        "s = \"abc\"\n",
        "\n",
        "print(len(s))\n",
        "\n",
        "s = s.replace(\"a\", \"aaa\")\n",
        "s = s.replace(\"b\", \"bbb\")\n",
        "s = s.replace(\"c\", \"ccc\")\n",
        "\n",
        "print(s)"
      ],
      "execution_count": 22,
      "outputs": [
        {
          "output_type": "stream",
          "text": [
            "3\n",
            "aaabbbccc\n"
          ],
          "name": "stdout"
        }
      ]
    },
    {
      "cell_type": "code",
      "metadata": {
        "colab": {
          "base_uri": "https://localhost:8080/"
        },
        "id": "MYkRWnPgD3GD",
        "outputId": "9e6d2825-0c7b-48fc-a339-dde846680f61"
      },
      "source": [
        "s = \"abc\"\n",
        "\n",
        "print(len(s))\n",
        "\n",
        "new_s = \"\"\n",
        "\n",
        "for ch in s:\n",
        "    new_s += ch * 3\n",
        "\n",
        "print(new_s)"
      ],
      "execution_count": 23,
      "outputs": [
        {
          "output_type": "stream",
          "text": [
            "3\n",
            "aaabbbccc\n"
          ],
          "name": "stdout"
        }
      ]
    },
    {
      "cell_type": "markdown",
      "metadata": {
        "id": "jbwXzEiKDbCC"
      },
      "source": [
        "Initialize the string \"aaabbbccc\" on a variable named \"s\":\n",
        "\n",
        "(a) Use a function that allows you to find the first occurence\n",
        "of \"b\" in the string, and the first occurence of \"ccc\".\n",
        "\n",
        "(b) Use a function that allows you to replace all occurences of \"a\" to \"X\",\n",
        "and then use the same function to change only the first occurence of \"a\" to \"X\"."
      ]
    },
    {
      "cell_type": "code",
      "metadata": {
        "id": "eNjQY_lKDtSW"
      },
      "source": [
        "s = \"aaabbbccc\"\n",
        "\n",
        "first_b = s.find(\"b\")\n",
        "first_ccc = s.find(\"ccc\")\n",
        "\n",
        "print(\"'b' first appears at index:\", first_b, \"and 'ccc' first appears at index:\", first_ccc)\n",
        "\n",
        "s = s.replace(\"a\", \"X\")\n",
        "print(\"All 'a's changed to 'X': \", s)\n",
        "\n",
        "s = \"aaabbbccc\"\n",
        "s = s.replace(\"a\", \"X\", 1)\n",
        "print(\"Only the first occurence of 'a' changed to 'X': \", s)"
      ],
      "execution_count": null,
      "outputs": []
    },
    {
      "cell_type": "markdown",
      "metadata": {
        "id": "1HdbHI-dED3i"
      },
      "source": [
        "Starting from the string \"aaa bbb ccc\", what sequences of operations\n",
        "do you need to arrive at the following strings?\n",
        "You can find the \"replace\" function.\n",
        "\n",
        "(a) \"AAA BBB CCC\"\n",
        "\n",
        "(b) \"AAA bbb CCC\""
      ]
    },
    {
      "cell_type": "code",
      "metadata": {
        "colab": {
          "base_uri": "https://localhost:8080/"
        },
        "id": "GGLjCDOYENWB",
        "outputId": "5252e562-3924-40b0-9189-898ea6295633"
      },
      "source": [
        "s = \"aaa bbb ccc\"\n",
        "print(s)\n",
        "\n",
        "s = s.upper()\n",
        "print(\"The string upper() method changes all lowercase to uppercase: \", s)\n",
        "\n",
        "s = \"aaa bbb ccc\"\n",
        "s = s.replace(\"a\", \"A\")\n",
        "s = s.replace(\"c\", \"C\")\n",
        "\n",
        "print(s)"
      ],
      "execution_count": 24,
      "outputs": [
        {
          "output_type": "stream",
          "text": [
            "aaa bbb ccc\n",
            "The string upper() method changes all lowercase to uppercase:  AAA BBB CCC\n",
            "AAA bbb CCC\n"
          ],
          "name": "stdout"
        }
      ]
    }
  ]
}