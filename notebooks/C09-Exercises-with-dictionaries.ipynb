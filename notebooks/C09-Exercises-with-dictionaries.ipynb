{
  "nbformat": 4,
  "nbformat_minor": 0,
  "metadata": {
    "colab": {
      "name": "Untitled1.ipynb",
      "provenance": [],
      "collapsed_sections": [],
      "toc_visible": true
    },
    "kernelspec": {
      "name": "python3",
      "display_name": "Python 3"
    }
  },
  "cells": [
    {
      "cell_type": "markdown",
      "metadata": {
        "id": "h6mgspFSAJxv"
      },
      "source": [
        "# **Exercises with dictionaries**"
      ]
    },
    {
      "cell_type": "markdown",
      "metadata": {
        "id": "EPm1Yt4wSm-I"
      },
      "source": [
        "Use the python documentation at https://docs.python.org/3/library/stdtypes.html#mapping-types-dict\n",
        "to solve the following exercises.\n",
        "\n",
        "Take the following python dictionary:\n",
        "```\n",
        "ages = {\n",
        "    \"Peter\": 10,\n",
        "    \"Isabel\": 11,\n",
        "    \"Anna\": 9,\n",
        "    \"Thomas\": 10,\n",
        "    \"Bob\": 10,\n",
        "    \"Joseph\": 11,\n",
        "    \"Maria\": 12,\n",
        "    \"Gabriel\": 10,\n",
        "}\n",
        "```\n",
        "1. How many students are in the dictionary? Search for the \"len\" function."
      ]
    },
    {
      "cell_type": "code",
      "metadata": {
        "colab": {
          "base_uri": "https://localhost:8080/"
        },
        "id": "xGP7tEbPTCig",
        "outputId": "4f125282-f6a5-46bb-e961-298e2f071535"
      },
      "source": [
        "ages = {\n",
        "    \"Peter\": 10,\n",
        "    \"Isabel\": 11,\n",
        "    \"Anna\": 9,\n",
        "    \"Thomas\": 10,\n",
        "    \"Bob\": 10,\n",
        "    \"Joseph\": 11,\n",
        "    \"Maria\": 12,\n",
        "    \"Gabriel\": 10,\n",
        "}\n",
        "\n",
        "print(len(ages))"
      ],
      "execution_count": 21,
      "outputs": [
        {
          "output_type": "stream",
          "text": [
            "8\n"
          ],
          "name": "stdout"
        }
      ]
    },
    {
      "cell_type": "markdown",
      "metadata": {
        "id": "I78gnh22TTLt"
      },
      "source": [
        "2. Implement a function that receives the \"ages\" dictionary as parameter and return the average age\n",
        "of the students. Traverse all items on the dictionary using the \"items\" method as above."
      ]
    },
    {
      "cell_type": "code",
      "metadata": {
        "colab": {
          "base_uri": "https://localhost:8080/"
        },
        "id": "MOoacmtETZnO",
        "outputId": "545883ab-9823-4828-f774-700824193e02"
      },
      "source": [
        "ages = {\n",
        "    \"Peter\": 10,\n",
        "    \"Isabel\": 11,\n",
        "    \"Anna\": 9,\n",
        "    \"Thomas\": 10,\n",
        "    \"Bob\": 10,\n",
        "    \"Joseph\": 11,\n",
        "    \"Maria\": 12,\n",
        "    \"Gabriel\": 10,\n",
        "}\n",
        "\n",
        "sum_ages = 0\n",
        "\n",
        "for name, age in ages.items():\n",
        "  sum_ages += age\n",
        "\n",
        "avg_ages = sum_ages / len(ages)\n",
        "\n",
        "print(round(avg_ages))"
      ],
      "execution_count": 23,
      "outputs": [
        {
          "output_type": "stream",
          "text": [
            "10\n"
          ],
          "name": "stdout"
        }
      ]
    },
    {
      "cell_type": "markdown",
      "metadata": {
        "id": "erYoKJ9qUBMV"
      },
      "source": [
        "3. Implement a function that receives the \"ages\" dictionary as parameter and returns the name\n",
        "of the oldest student."
      ]
    },
    {
      "cell_type": "code",
      "metadata": {
        "colab": {
          "base_uri": "https://localhost:8080/"
        },
        "id": "-qQacAEdUFYZ",
        "outputId": "4b4ac869-018d-48e8-962b-3d06219d095c"
      },
      "source": [
        "ages = {\n",
        "    \"Peter\": 10,\n",
        "    \"Isabel\": 11,\n",
        "    \"Anna\": 9,\n",
        "    \"Thomas\": 10,\n",
        "    \"Bob\": 10,\n",
        "    \"Joseph\": 11,\n",
        "    \"Maria\": 12,\n",
        "    \"Gabriel\": 10,\n",
        "}\n",
        "\n",
        "def oldest_std(di):\n",
        "  oldest = 0\n",
        "  for k, v in di.items():\n",
        "    if v > oldest:\n",
        "      oldest = v\n",
        "  return \"Oldest student is {} and is {} years old.\".format(k, oldest)\n",
        "\n",
        "print(oldest_std(ages))"
      ],
      "execution_count": 24,
      "outputs": [
        {
          "output_type": "stream",
          "text": [
            "Oldest student is Gabriel and is 12 years old.\n"
          ],
          "name": "stdout"
        }
      ]
    },
    {
      "cell_type": "markdown",
      "metadata": {
        "id": "DqzTTcDlUsnG"
      },
      "source": [
        "4. Implement a function that receives the \"ages\" dictionary and a number \"n\" and returns a new dict\n",
        "where each student is n years older. For instance, new_ages(ages, 10) returns a copy of \"ages\"\n",
        "where each student is 10 years older."
      ]
    },
    {
      "cell_type": "code",
      "metadata": {
        "colab": {
          "base_uri": "https://localhost:8080/"
        },
        "id": "L82gn2MjU2JY",
        "outputId": "9984427b-294d-4310-c694-dfffe0d6fce8"
      },
      "source": [
        "ages = {\n",
        "    \"Peter\": 10,\n",
        "    \"Isabel\": 11,\n",
        "    \"Anna\": 9,\n",
        "    \"Thomas\": 10,\n",
        "    \"Bob\": 10,\n",
        "    \"Joseph\": 11,\n",
        "    \"Maria\": 12,\n",
        "    \"Gabriel\": 10,\n",
        "}\n",
        "\n",
        "def new_ages(di):\n",
        "  new_di = {}\n",
        "  n = int(input(\"How many years older? \"))\n",
        "\n",
        "  for k, v in di.items():\n",
        "    new_di[k] = v + n\n",
        "  return new_di\n",
        "\n",
        "print(new_ages(ages)) "
      ],
      "execution_count": 25,
      "outputs": [
        {
          "output_type": "stream",
          "text": [
            "How many years older? 10\n",
            "{'Peter': 20, 'Isabel': 21, 'Anna': 19, 'Thomas': 20, 'Bob': 20, 'Joseph': 21, 'Maria': 22, 'Gabriel': 20}\n"
          ],
          "name": "stdout"
        }
      ]
    }
  ]
}
