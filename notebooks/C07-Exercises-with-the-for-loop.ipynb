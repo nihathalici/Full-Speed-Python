{
  "nbformat": 4,
  "nbformat_minor": 0,
  "metadata": {
    "colab": {
      "name": "Untitled1.ipynb",
      "provenance": [],
      "collapsed_sections": [],
      "toc_visible": true
    },
    "kernelspec": {
      "name": "python3",
      "display_name": "Python 3"
    }
  },
  "cells": [
    {
      "cell_type": "markdown",
      "metadata": {
        "id": "h6mgspFSAJxv"
      },
      "source": [
        "# **Exercises with the for loop**"
      ]
    },
    {
      "cell_type": "markdown",
      "metadata": {
        "id": "_ionAICXrN9x"
      },
      "source": [
        "For this section you may want to consult the python docs at\n",
        "https://docs.python. org/3/tutorial/controlflow.html#for-statements.\n",
        "\n",
        "1. Create a function \"add\" that receives a list as parameter and returns\n",
        "the sum of all elements in the list.\n",
        "\n",
        "Use the \"for\" loop to iterate over the elements of the list."
      ]
    },
    {
      "cell_type": "code",
      "metadata": {
        "colab": {
          "base_uri": "https://localhost:8080/"
        },
        "id": "bT6vaGbIrjtK",
        "outputId": "c16906ac-085b-4c39-f406-e8c951a9e156"
      },
      "source": [
        "def add(li):\n",
        "  my_sum = 0\n",
        "  for item in li:\n",
        "    my_sum += item\n",
        "  return my_sum\n",
        "\n",
        "my_list = [1, 2, 3, 4, 5]\n",
        "\n",
        "print(add(my_list))"
      ],
      "execution_count": 1,
      "outputs": [
        {
          "output_type": "stream",
          "text": [
            "15\n"
          ],
          "name": "stdout"
        }
      ]
    },
    {
      "cell_type": "markdown",
      "metadata": {
        "id": "G-sbo9jtsHUu"
      },
      "source": [
        "2. Create a function that receives a list as parameter and returns\n",
        "the maximum value in the list. As you iterate over the list you may\n",
        "want to keep the maximum value found so far in order to keep\n",
        "comparing it with the next elements of the list."
      ]
    },
    {
      "cell_type": "code",
      "metadata": {
        "colab": {
          "base_uri": "https://localhost:8080/"
        },
        "id": "YKDBEcMEsLdv",
        "outputId": "34f9135f-d096-482a-9be4-d34e0203c197"
      },
      "source": [
        "def max(li):\n",
        "  max_val = 0\n",
        "  for item in li:\n",
        "    if item > max_val:\n",
        "      max_val = item\n",
        "  return max_val\n",
        "\n",
        "my_list = [1, 2, 3, 4, 5]\n",
        "\n",
        "print(max(my_list))"
      ],
      "execution_count": 2,
      "outputs": [
        {
          "output_type": "stream",
          "text": [
            "5\n"
          ],
          "name": "stdout"
        }
      ]
    },
    {
      "cell_type": "markdown",
      "metadata": {
        "id": "AbqSex3X2O7g"
      },
      "source": [
        "3. Modify the previous function such that it returns a list\n",
        "with the first element being the maximum value and the second\n",
        "being the index of the maximum value in the list.\n",
        "Besides keep the last maximum value found so far,\n",
        "you need to keep also the position where it occured."
      ]
    },
    {
      "cell_type": "code",
      "metadata": {
        "colab": {
          "base_uri": "https://localhost:8080/"
        },
        "id": "piSIR4qG2bKK",
        "outputId": "3807ce82-7f22-4ee1-e582-b18cef94a04b"
      },
      "source": [
        "def max(li):\n",
        "  max_val_l = []\n",
        "  max_item = 0\n",
        "  for i, item in enumerate(li):\n",
        "    if item > max_item:\n",
        "      max_item = item\n",
        "  max_val_l.append([max_item, i])\n",
        "  return max_val_l\n",
        "\n",
        "my_list = [1, 2, 3, 4, 5]\n",
        "\n",
        "print(\"Maximum value of the list is {} and is on the index {}\".format(max(my_list)[0][0], max(my_list)[0][1]))"
      ],
      "execution_count": 3,
      "outputs": [
        {
          "output_type": "stream",
          "text": [
            "Maximum value of the list is 5 and is on the index 4\n"
          ],
          "name": "stdout"
        }
      ]
    }
  ]
}