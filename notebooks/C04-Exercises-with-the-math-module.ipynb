{
  "nbformat": 4,
  "nbformat_minor": 0,
  "metadata": {
    "colab": {
      "name": "Untitled1.ipynb",
      "provenance": [],
      "collapsed_sections": [],
      "toc_visible": true
    },
    "kernelspec": {
      "name": "python3",
      "display_name": "Python 3"
    }
  },
  "cells": [
    {
      "cell_type": "markdown",
      "metadata": {
        "id": "h6mgspFSAJxv"
      },
      "source": [
        "# **Exercises with the math module**"
      ]
    },
    {
      "cell_type": "markdown",
      "metadata": {
        "id": "MINMF4MPnrit"
      },
      "source": [
        "Use the python documentation about the math module\n",
        "(https://docs.python.org/3/ library/math.html) to solve the following exercises:\n",
        "\n",
        "**1. Find the greatest common divisor of the following pairs of numbers:**\n",
        "\n",
        "(15, 21), (152, 200), (1988, 9765)."
      ]
    },
    {
      "cell_type": "code",
      "metadata": {
        "colab": {
          "base_uri": "https://localhost:8080/"
        },
        "id": "dVull2e8n9nW",
        "outputId": "22ea952c-b0e1-4fa6-c20b-d103d41488ac"
      },
      "source": [
        "from math import gcd\n",
        "\n",
        "print(\"GCD of 15 and 21 is:\", gcd(15, 21))\n",
        "print(\"GCD of 152 and 200 is:\", gcd(152, 200))\n",
        "print(\"GCD of 1988 and 9765 is:\", gcd(1988, 9765))"
      ],
      "execution_count": 1,
      "outputs": [
        {
          "output_type": "stream",
          "text": [
            "GCD of 15 and 21 is: 3\n",
            "GCD of 152 and 200 is: 8\n",
            "GCD of 1988 and 9765 is: 7\n"
          ],
          "name": "stdout"
        }
      ]
    },
    {
      "cell_type": "markdown",
      "metadata": {
        "id": "4hNfYDjuoL6c"
      },
      "source": [
        "**2. Compute the base-2 logarithm of the following numbers: 0, 1, 2, 6, 9, 15.**"
      ]
    },
    {
      "cell_type": "code",
      "metadata": {
        "colab": {
          "base_uri": "https://localhost:8080/"
        },
        "id": "12AkgC1SoQ0x",
        "outputId": "0c3a78e6-c3d4-4e02-f179-0fb12b9ad781"
      },
      "source": [
        "from math import log2\n",
        "\n",
        "# 0 causes a ValueError\n",
        "nums = [ 1, 2, 6, 9, 15 ]\n",
        "\n",
        "for num in nums:\n",
        "    print(\"Base-2 logarithm of {} is {}\".format(num, log2(num)))"
      ],
      "execution_count": 3,
      "outputs": [
        {
          "output_type": "stream",
          "text": [
            "Base-2 logarithm of 1 is 0.0\n",
            "Base-2 logarithm of 2 is 1.0\n",
            "Base-2 logarithm of 6 is 2.584962500721156\n",
            "Base-2 logarithm of 9 is 3.169925001442312\n",
            "Base-2 logarithm of 15 is 3.9068905956085187\n"
          ],
          "name": "stdout"
        }
      ]
    },
    {
      "cell_type": "markdown",
      "metadata": {
        "id": "tV00UPaEomz3"
      },
      "source": [
        "**3. Use the \"input\" function to ask the user for a number and show the result of\n",
        "the sine, cosine and tangent of the number. Make sure that you convert the user input\n",
        "from string to a number (use the int() or the float() function).**"
      ]
    },
    {
      "cell_type": "code",
      "metadata": {
        "colab": {
          "base_uri": "https://localhost:8080/"
        },
        "id": "4TtJ4zTDoz0S",
        "outputId": "f425e5da-41c9-4611-a4b2-4352db502f49"
      },
      "source": [
        "from math import sin, cos, tan\n",
        "\n",
        "num = float(input(\"A number please: \"))\n",
        "\n",
        "print(\"Sine of number {} is {}\".format(num, sin(num)))\n",
        "print(\"Cosine of number {} is {}\".format(num, cos(num)))\n",
        "print(\"Tangent of number {} is {}\".format(num, tan(num)))"
      ],
      "execution_count": 4,
      "outputs": [
        {
          "output_type": "stream",
          "text": [
            "A number please: 7\n",
            "Sine of number 7.0 is 0.6569865987187891\n",
            "Cosine of number 7.0 is 0.7539022543433046\n",
            "Tangent of number 7.0 is 0.8714479827243188\n"
          ],
          "name": "stdout"
        }
      ]
    }
  ]
}