{
  "nbformat": 4,
  "nbformat_minor": 0,
  "metadata": {
    "colab": {
      "name": "Untitled1.ipynb",
      "provenance": [],
      "collapsed_sections": [],
      "toc_visible": true
    },
    "kernelspec": {
      "name": "python3",
      "display_name": "Python 3"
    }
  },
  "cells": [
    {
      "cell_type": "markdown",
      "metadata": {
        "id": "h6mgspFSAJxv"
      },
      "source": [
        "# **Exercises with recursive functions**"
      ]
    },
    {
      "cell_type": "markdown",
      "metadata": {
        "id": "5eT-SKXTyFYP"
      },
      "source": [
        "1. Implement the factorial function and test it with several different values.\n",
        "Cross- check with a calculator."
      ]
    },
    {
      "cell_type": "code",
      "metadata": {
        "colab": {
          "base_uri": "https://localhost:8080/"
        },
        "id": "U4LG046FyN8T",
        "outputId": "c4d0c703-00cd-4826-b3b2-be8703113d42"
      },
      "source": [
        "from math import factorial\n",
        "from random import randint\n",
        "\n",
        "count = 1\n",
        "\n",
        "while count != 6:\n",
        "  x = randint(0, 7)\n",
        "  print(\"Test \" + str(count) + \" for number \" + str(x) + \":\", factorial(x))\n",
        "  count += 1"
      ],
      "execution_count": 2,
      "outputs": [
        {
          "output_type": "stream",
          "text": [
            "Test 1 for number 1: 1\n",
            "Test 2 for number 6: 720\n",
            "Test 3 for number 4: 24\n",
            "Test 4 for number 5: 120\n",
            "Test 5 for number 2: 2\n"
          ],
          "name": "stdout"
        }
      ]
    },
    {
      "cell_type": "markdown",
      "metadata": {
        "id": "rJ0Lt85E2WwL"
      },
      "source": [
        "2. Implement a recursive function to compute the sum of the n first integer numbers\n",
        "(where n is a function parameter). Start by thinking about the base case\n",
        "(the sum of the first 0 integers is?) and then think about the recursive case."
      ]
    },
    {
      "cell_type": "code",
      "metadata": {
        "colab": {
          "base_uri": "https://localhost:8080/"
        },
        "id": "1CmKZ4E-2cmY",
        "outputId": "2bd80d1e-7bba-43ac-fc9b-4f12cb6ae1ec"
      },
      "source": [
        "li = [1, 1, 3, 3, 6, 6, 7, 51, 75]\n",
        "\n",
        "while True:\n",
        "  try:\n",
        "    print(li)\n",
        "    print('Get item 1:', li[0], 'and added to item 2:', li[1])\n",
        "    first_second_item = li.pop(0) + li.pop(0)\n",
        "    li.insert(0, first_second_item)\n",
        "    print(first_second_item)\n",
        "  except:\n",
        "    print(\"No more items\")\n",
        "    break"
      ],
      "execution_count": 3,
      "outputs": [
        {
          "output_type": "stream",
          "text": [
            "[1, 1, 3, 3, 6, 6, 7, 51, 75]\n",
            "Get item 1: 1 and added to item 2: 1\n",
            "2\n",
            "[2, 3, 3, 6, 6, 7, 51, 75]\n",
            "Get item 1: 2 and added to item 2: 3\n",
            "5\n",
            "[5, 3, 6, 6, 7, 51, 75]\n",
            "Get item 1: 5 and added to item 2: 3\n",
            "8\n",
            "[8, 6, 6, 7, 51, 75]\n",
            "Get item 1: 8 and added to item 2: 6\n",
            "14\n",
            "[14, 6, 7, 51, 75]\n",
            "Get item 1: 14 and added to item 2: 6\n",
            "20\n",
            "[20, 7, 51, 75]\n",
            "Get item 1: 20 and added to item 2: 7\n",
            "27\n",
            "[27, 51, 75]\n",
            "Get item 1: 27 and added to item 2: 51\n",
            "78\n",
            "[78, 75]\n",
            "Get item 1: 78 and added to item 2: 75\n",
            "153\n",
            "[153]\n",
            "No more items\n"
          ],
          "name": "stdout"
        }
      ]
    },
    {
      "cell_type": "markdown",
      "metadata": {
        "id": "_Rd284yf3jcX"
      },
      "source": [
        "3. The Fibonnaci sequence is a sequence of numbers in which each number of the sequence\n",
        "matches the sum of the previous two terms.\n",
        "Given the following recursive definition implement fib(n).\n",
        "f(n)=0 if n=0\n",
        "f(n)=1 if n=1\n",
        "f(n)=f(n-1)+f(n-2) if n>1\n",
        "Check your results for the first numbers of the sequence: 0, 1, 1, 2, 3, 5, 8, 13, 21, 34, 55, 89, ..."
      ]
    },
    {
      "cell_type": "code",
      "metadata": {
        "colab": {
          "base_uri": "https://localhost:8080/"
        },
        "id": "-k3k93p03l9c",
        "outputId": "791b2ba0-919c-4647-e6e1-5060cfab030e"
      },
      "source": [
        "\n",
        "def f(n):\n",
        "  if n == 0:\n",
        "    return 0\n",
        "  elif n == 1:\n",
        "    return 1\n",
        "  else:\n",
        "    return f(n - 1) + f(n - 2)\n",
        "\n",
        "n = int(input())\n",
        "\n",
        "val = [str(f(x)) for x in range(0, n + 1)]\n",
        "\n",
        "print(\",\".join(val))"
      ],
      "execution_count": 4,
      "outputs": [
        {
          "output_type": "stream",
          "text": [
            "7\n",
            "0,1,1,2,3,5,8,13\n"
          ],
          "name": "stdout"
        }
      ]
    }
  ]
}