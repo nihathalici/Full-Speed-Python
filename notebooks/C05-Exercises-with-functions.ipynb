{
  "nbformat": 4,
  "nbformat_minor": 0,
  "metadata": {
    "colab": {
      "name": "Untitled1.ipynb",
      "provenance": [],
      "collapsed_sections": [],
      "toc_visible": true
    },
    "kernelspec": {
      "name": "python3",
      "display_name": "Python 3"
    }
  },
  "cells": [
    {
      "cell_type": "markdown",
      "metadata": {
        "id": "h6mgspFSAJxv"
      },
      "source": [
        "# **Exercises with functions**"
      ]
    },
    {
      "cell_type": "markdown",
      "metadata": {
        "id": "rrWBgadscZC4"
      },
      "source": [
        "1. Implement the \"add2\" function that receives two numbers as arguments\n",
        "and returns the sum of the numbers. Then implement the \"add3\" function\n",
        "that receives and sums 3 parameters."
      ]
    },
    {
      "cell_type": "code",
      "metadata": {
        "colab": {
          "base_uri": "https://localhost:8080/"
        },
        "id": "DDYlCHMaciyg",
        "outputId": "b7fa574d-d1eb-4b58-d946-828cfa91a494"
      },
      "source": [
        "def add2(num1, num2):\n",
        "    return num1 + num2\n",
        "\n",
        "print(add2(7, 3))\n",
        "\n",
        "def add3(num1, num2, num3):\n",
        "    return add2(num1, num2) + num3\n",
        "\n",
        "print(add3(7, 3, 5))"
      ],
      "execution_count": 8,
      "outputs": [
        {
          "output_type": "stream",
          "text": [
            "10\n",
            "15\n"
          ],
          "name": "stdout"
        }
      ]
    },
    {
      "cell_type": "code",
      "metadata": {
        "colab": {
          "base_uri": "https://localhost:8080/"
        },
        "id": "VXfqL75mc9w4",
        "outputId": "c3feb037-3dab-45ad-b0a3-dfb227d6cbd8"
      },
      "source": [
        "def add2(num1, num2):\n",
        "    print(\"Function add2 got value\", num1, \"and\", num2)\n",
        "    return num1 + num2\n",
        "\n",
        "my_num_1 = int(input(\"Number 1: \"))\n",
        "my_num_2 = int(input(\"Number 2: \"))\n",
        "\n",
        "print(add2(my_num_1, my_num_2))\n",
        "\n",
        "def add3(num1, num2, num3):\n",
        "    print(\"Function add3 got value\",num1,\",\" ,num2, \"and\", num3)\n",
        "    return num1 + num2 + num3\n",
        "\n",
        "my_num_3 = int(input(\"Number 3: \"))\n",
        "\n",
        "print(add3(my_num_1, my_num_2, my_num_3))\n"
      ],
      "execution_count": 9,
      "outputs": [
        {
          "output_type": "stream",
          "text": [
            "Number 1: 7\n",
            "Number 2: 3\n",
            "Function add2 got value 7 and 3\n",
            "10\n",
            "Number 3: 5\n",
            "Function add3 got value 7 , 3 and 5\n",
            "15\n"
          ],
          "name": "stdout"
        }
      ]
    },
    {
      "cell_type": "markdown",
      "metadata": {
        "id": "sGlsZwPJdTBK"
      },
      "source": [
        "2. Implement a function that returns the greatest of two numbers given as parameters.\n",
        "\n",
        "Use the \"if\" statement to compare both numbers:\n",
        "\n",
        "https://docs.python.org/3/tutorial/controlflow.html#if-statements.\n"
      ]
    },
    {
      "cell_type": "code",
      "metadata": {
        "colab": {
          "base_uri": "https://localhost:8080/"
        },
        "id": "P-WROYBBdcVM",
        "outputId": "57d08c81-23ba-4151-9357-e67b2fed8b50"
      },
      "source": [
        "def comp(num1, num2):\n",
        "    if num1 > num2:\n",
        "        return num1\n",
        "    else:\n",
        "        return num2\n",
        "\n",
        "my_num_1 = int(input(\"Number 1: \"))\n",
        "my_num_2 = int(input(\"Number 2: \"))\n",
        "\n",
        "print(comp(my_num_1, my_num_2))"
      ],
      "execution_count": 10,
      "outputs": [
        {
          "output_type": "stream",
          "text": [
            "Number 1: 7\n",
            "Number 2: 3\n",
            "7\n"
          ],
          "name": "stdout"
        }
      ]
    },
    {
      "cell_type": "markdown",
      "metadata": {
        "id": "z7isFHCCdnKC"
      },
      "source": [
        "3. Implement a function named \"is_divisible\" that receives two parameters (named \"a\" and \"b\")\n",
        "and returns true if \"a\" can be divided by \"b\" or false otherwise.\n",
        "\n",
        "A number is divisible by another when the remainder of the division is zero.\n",
        "Use the modulo operator (\"%\")."
      ]
    },
    {
      "cell_type": "code",
      "metadata": {
        "colab": {
          "base_uri": "https://localhost:8080/"
        },
        "id": "sfxW7vEUd2VG",
        "outputId": "afd11c7d-9fe8-41bb-f72e-1fa57e22f6f2"
      },
      "source": [
        "def is_divisible(a, b):\n",
        "    if a % b == 0:\n",
        "        return True\n",
        "    else:\n",
        "        return False\n",
        "\n",
        "my_num_1 = int(input(\"Number 1: \"))\n",
        "my_num_2 = int(input(\"Number 2: \"))\n",
        "\n",
        "print(is_divisible(my_num_1, my_num_2))"
      ],
      "execution_count": 11,
      "outputs": [
        {
          "output_type": "stream",
          "text": [
            "Number 1: 15\n",
            "Number 2: 5\n",
            "True\n"
          ],
          "name": "stdout"
        }
      ]
    },
    {
      "cell_type": "markdown",
      "metadata": {
        "id": "U3KLzyFieAEv"
      },
      "source": [
        "4. Create a function named \"average\" that computes the average value of a list passed as parameter to the function.\n",
        "\n",
        "Use the \"sum\" and \"len\" functions."
      ]
    },
    {
      "cell_type": "code",
      "metadata": {
        "colab": {
          "base_uri": "https://localhost:8080/"
        },
        "id": "M5wmHCp9eL13",
        "outputId": "0b5dbb26-057e-45f7-e6d6-299e8028f9d2"
      },
      "source": [
        "def avg(li):\n",
        "    return sum(li) / len(li)\n",
        "\n",
        "my_list = [1, 2, 3, 4, 5]\n",
        "\n",
        "print(avg(my_list))"
      ],
      "execution_count": 12,
      "outputs": [
        {
          "output_type": "stream",
          "text": [
            "3.0\n"
          ],
          "name": "stdout"
        }
      ]
    },
    {
      "cell_type": "code",
      "metadata": {
        "colab": {
          "base_uri": "https://localhost:8080/"
        },
        "id": "UuHkYXzjeY_l",
        "outputId": "8e7bb5ae-3c25-490c-bf78-9e4e94cf25eb"
      },
      "source": [
        "import random\n",
        "\n",
        "def get_avg(li):\n",
        "    return sum(li)/len(li)\n",
        "\n",
        "count = 0\n",
        "my_li = []\n",
        "\n",
        "while count < 10:\n",
        "    my_li.append(random.randint(0, 1000))\n",
        "    count += 1\n",
        "print(\"List:\", my_li)\n",
        "\n",
        "print(\"Average:\", get_avg(my_li))\n"
      ],
      "execution_count": 13,
      "outputs": [
        {
          "output_type": "stream",
          "text": [
            "List: [179, 290, 269, 134, 116, 675, 926, 368, 187, 801]\n",
            "Average: 394.5\n"
          ],
          "name": "stdout"
        }
      ]
    }
  ]
}