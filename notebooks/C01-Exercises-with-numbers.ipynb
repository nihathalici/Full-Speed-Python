{
  "nbformat": 4,
  "nbformat_minor": 0,
  "metadata": {
    "colab": {
      "name": "Untitled1.ipynb",
      "provenance": [],
      "collapsed_sections": [],
      "toc_visible": true
    },
    "kernelspec": {
      "name": "python3",
      "display_name": "Python 3"
    }
  },
  "cells": [
    {
      "cell_type": "markdown",
      "metadata": {
        "id": "h6mgspFSAJxv"
      },
      "source": [
        "# **Exercises with numbers**"
      ]
    },
    {
      "cell_type": "markdown",
      "metadata": {
        "id": "fiqNf0sqZkLP"
      },
      "source": [
        "Try the following mathematical calculations and guess what is happening:\n",
        "(3/2),(3//2),(3%2),(3∗∗2).\n",
        "\n",
        "Suggestion:\n",
        "Check the python library reference at\n",
        "https://docs.python.org/3/library/stdtypes.html#numeric-types-int-float-complex."
      ]
    },
    {
      "cell_type": "code",
      "metadata": {
        "colab": {
          "base_uri": "https://localhost:8080/"
        },
        "id": "QFlnhIHqZv53",
        "outputId": "c0866873-cd3d-46ad-e3de-9484bda6e9d4"
      },
      "source": [
        "print(\"Division:\", 3 / 2)\n",
        "print(\"Floor Division\", 3 // 2)\n",
        "print(\"Finding the remainder:\", 3 % 2)\n",
        "print(\"Multiplying to the power of 2:\", 3 ** 2)"
      ],
      "execution_count": 1,
      "outputs": [
        {
          "output_type": "stream",
          "text": [
            "Division: 1.5\n",
            "Floor Division 1\n",
            "Finding the remainder: 1\n",
            "Multiplying to the power of 2: 9\n"
          ],
          "name": "stdout"
        }
      ]
    },
    {
      "cell_type": "markdown",
      "metadata": {
        "id": "q0ZufQ72bUCw"
      },
      "source": [
        "Calculate the average of the following sequences of numbers:\n",
        "(2, 4), (4, 8, 9), (12,14/6, 15)"
      ]
    },
    {
      "cell_type": "code",
      "metadata": {
        "colab": {
          "base_uri": "https://localhost:8080/"
        },
        "id": "rFBqIHNBbZSS",
        "outputId": "59038f0e-5d7d-4ecc-c240-60ff06d8a619"
      },
      "source": [
        "x = [2, 4]\n",
        "y = [4, 8, 9]\n",
        "z = [12, 14 / 6, 15]\n",
        "\n",
        "print(\"Average of list x is:\", sum(x) / len(x))\n",
        "print(\"Average of list y is:\", sum(y) / len(y))\n",
        "print(\"Average of list z is:\", sum(z) / len(z))"
      ],
      "execution_count": 2,
      "outputs": [
        {
          "output_type": "stream",
          "text": [
            "Average of list x is: 3.0\n",
            "Average of list y is: 7.0\n",
            "Average of list z is: 9.777777777777779\n"
          ],
          "name": "stdout"
        }
      ]
    },
    {
      "cell_type": "markdown",
      "metadata": {
        "id": "WzjgOSSZbjqY"
      },
      "source": [
        "The volume of a sphere is given by 4/3πr.\n",
        "Calculate the volume of a sphere of radius 5.\n",
        "\n",
        "Suggestion:\n",
        "Create a variable named \"pi\" with the value of 3.1415"
      ]
    },
    {
      "cell_type": "code",
      "metadata": {
        "colab": {
          "base_uri": "https://localhost:8080/"
        },
        "id": "EWFnNoVKbkur",
        "outputId": "83d7ec19-6a92-428d-8888-3172eaf34a4e"
      },
      "source": [
        "pi = 3.1415\n",
        "my_rad = 5\n",
        "my_vol = (4 / 3 * pi * my_rad)\n",
        "print(my_vol)"
      ],
      "execution_count": 3,
      "outputs": [
        {
          "output_type": "stream",
          "text": [
            "20.94333333333333\n"
          ],
          "name": "stdout"
        }
      ]
    },
    {
      "cell_type": "markdown",
      "metadata": {
        "id": "9-fZhkJrbx2L"
      },
      "source": [
        "Use the module operator (%) to check which of the following\n",
        "numbers is even or odd: (1, 5, 20, 60/7).\n",
        "Suggestion:\n",
        "The remainder of x/2 is always zero when x is even."
      ]
    },
    {
      "cell_type": "code",
      "metadata": {
        "colab": {
          "base_uri": "https://localhost:8080/"
        },
        "id": "gq1E8_VKb0A1",
        "outputId": "cca85417-6064-4cde-b312-4d83e49c4a68"
      },
      "source": [
        "nums = [1, 5, 20, 60/7]\n",
        "\n",
        "even_n = []\n",
        "odd_n = []\n",
        "\n",
        "for num in nums:\n",
        "    if num % 2 == 0:\n",
        "        even_n.append(num)\n",
        "    else:\n",
        "        odd_n.append(num)\n",
        "\n",
        "print(\"Even numbers: \")\n",
        "print(\"\".join(str(even_n)))\n",
        "\n",
        "print(\"Odd numbers: \")\n",
        "print(\"\".join(str(odd_n)))"
      ],
      "execution_count": 4,
      "outputs": [
        {
          "output_type": "stream",
          "text": [
            "Even numbers: \n",
            "[20]\n",
            "Odd numbers: \n",
            "[1, 5, 8.571428571428571]\n"
          ],
          "name": "stdout"
        }
      ]
    }
  ]
}